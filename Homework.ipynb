{
 "cells": [
  {
   "cell_type": "markdown",
   "id": "26d84948",
   "metadata": {},
   "source": [
    "# Домашнее задание к уроку 1: Основы PyTorch"
   ]
  },
  {
   "cell_type": "code",
   "execution_count": 234,
   "id": "3f2579d6",
   "metadata": {},
   "outputs": [],
   "source": [
    "import torch"
   ]
  },
  {
   "cell_type": "markdown",
   "id": "bd127099",
   "metadata": {},
   "source": [
    "## Задание 1: Создание и манипуляции с тензорами"
   ]
  },
  {
   "cell_type": "markdown",
   "id": "3bbb8837",
   "metadata": {},
   "source": [
    "### 1.1 Создание тензоров"
   ]
  },
  {
   "cell_type": "code",
   "execution_count": 235,
   "id": "f4b18063",
   "metadata": {},
   "outputs": [],
   "source": [
    "# Тензор размером 3x4, заполненный случайными числами от 0 до 1\n",
    "tensor_3x4 = torch.rand(3, 4)\n",
    "# Тензор размером 2x3x4, заполненный нулями\n",
    "tensor_2x3x4 = torch.zeros(2, 3, 4)\n",
    "# Тензор размером 5x5, заполненный единицами\n",
    "tensor_5x5 = torch.ones(5, 5)\n",
    "# Тензор размером 4x4 с числами от 0 до 15 (используйте reshape)\n",
    "tensor_4x4 = torch.arange(16).reshape(4, 4)"
   ]
  },
  {
   "cell_type": "markdown",
   "id": "c17b3c76",
   "metadata": {},
   "source": [
    "### 1.2 Операции с тензорами"
   ]
  },
  {
   "cell_type": "code",
   "execution_count": 236,
   "id": "9d5ba89c",
   "metadata": {},
   "outputs": [],
   "source": [
    "a = torch.rand(3, 4)\n",
    "b = torch.rand(4, 3)\n",
    "\n",
    "# Транспонирование тензора A\n",
    "a_transposed = a.T\n",
    "# Матричное умножение A и B\n",
    "matrix_product = a @ b\n",
    "# Поэлементное умножение A и транспонированного B\n",
    "element_wise_product = a * b.T\n",
    "# Вычислите сумму всех элементов тензора A\n",
    "a_sum = a.sum()"
   ]
  },
  {
   "cell_type": "markdown",
   "id": "d63f3b5a",
   "metadata": {},
   "source": [
    "### 1.3 Индексация и срезы"
   ]
  },
  {
   "cell_type": "code",
   "execution_count": 237,
   "id": "30f3777b",
   "metadata": {},
   "outputs": [],
   "source": [
    "tensor = torch.rand(5, 5, 5)\n",
    "\n",
    "# Первая строка\n",
    "first_row = tensor[0, 0, :]\n",
    "# Последний столбец\n",
    "last_column = tensor[:, :, -1:]\n",
    "# Подматрица размером 2x2 из центра тензора\n",
    "center_2x2 = tensor[0, 2:4, 2:4]\n",
    "# Все элементы с четными индексами\n",
    "even_indices = tensor[::2, ::2, ::2]"
   ]
  },
  {
   "cell_type": "markdown",
   "id": "096f6d8b",
   "metadata": {},
   "source": [
    "### 1.4 Работа с формами"
   ]
  },
  {
   "cell_type": "code",
   "execution_count": 238,
   "id": "a3c1070f",
   "metadata": {},
   "outputs": [],
   "source": [
    "tensor = torch.arange(24)\n",
    "\n",
    "# 2x12\n",
    "tensor_2x12 = tensor.view(2, 12)\n",
    "# 3x8\n",
    "tensor_3x8 = tensor.view(3, 8)\n",
    "# 4x6\n",
    "tensor_4x6 = tensor.view(4, 6)\n",
    "# 2x3x4\n",
    "tensor_2x3x4 = tensor.view(2, 3, 4)\n",
    "# 2x2x2x3\n",
    "tensor_2x2x2x3 = tensor.view(2, 2, 2, 3)"
   ]
  },
  {
   "cell_type": "markdown",
   "id": "5edc8ac1",
   "metadata": {},
   "source": [
    "## Задание 2: Автоматическое дифференцирование"
   ]
  },
  {
   "cell_type": "markdown",
   "id": "76f3d641",
   "metadata": {},
   "source": [
    "### 2.1 Простые вычисления с градиентами"
   ]
  },
  {
   "cell_type": "code",
   "execution_count": 239,
   "id": "27980acf",
   "metadata": {},
   "outputs": [
    {
     "name": "stdout",
     "output_type": "stream",
     "text": [
      "df/dx:  tensor(14.)\n",
      "df/dy:  tensor(10.)\n",
      "df/dz:  tensor(10.)\n"
     ]
    }
   ],
   "source": [
    "x = torch.tensor(1.0, requires_grad=True)\n",
    "y_pred = torch.tensor(2.0, requires_grad=True)\n",
    "z = torch.tensor(3.0, requires_grad=True)\n",
    "\n",
    "f = x**2 + y_pred**2 + z**2 + 2 * x * y_pred * z\n",
    "f.backward()\n",
    "\n",
    "print(\"df/dx: \", x.grad)\n",
    "print(\"df/dy: \", y_pred.grad)\n",
    "print(\"df/dz: \", z.grad)"
   ]
  },
  {
   "cell_type": "markdown",
   "id": "f371f361",
   "metadata": {},
   "source": [
    "Проверка аналитически:\n",
    "\n",
    "- df/dx = 2x + 2yz => 2 * 1 + 2 * 2 * 3 = 14\n",
    "- df/dy = 2y + 2xz => 2 * 2 + 2 * 1 * 3 = 10\n",
    "- df/dz = 2z + 2xy => 2 * 3 + 2 * 1 * 2 = 10\n",
    "\n",
    "Все ответы совпали"
   ]
  },
  {
   "cell_type": "markdown",
   "id": "af9a95b1",
   "metadata": {},
   "source": [
    "### 2.2 Градиент функции потерь"
   ]
  },
  {
   "cell_type": "code",
   "execution_count": 240,
   "id": "b871e226",
   "metadata": {},
   "outputs": [],
   "source": [
    "def mse(\n",
    "    x: torch.Tensor, w: torch.Tensor, b: torch.Tensor, y_true: torch.Tensor\n",
    ") -> torch.Tensor:\n",
    "    \"\"\"Mean Squared Error\n",
    "\n",
    "    Args:\n",
    "        x (torch.Tensor): Входные данные.\n",
    "        w (torch.Tensor): Веса модели.\n",
    "        b (torch.Tensor): Смещение модели.\n",
    "        y_true (torch.Tensor): Правильные ответы.\n",
    "\n",
    "    Returns:\n",
    "        torch.Tensor: Средняя квадратичная ошибка между предсказанными и правильными ответами.\n",
    "    \"\"\"\n",
    "    y_pred = x @ w + b\n",
    "    return ((y_pred - y_true) ** 2).mean()"
   ]
  },
  {
   "cell_type": "markdown",
   "id": "7647f1d2",
   "metadata": {},
   "source": [
    "Примеры"
   ]
  },
  {
   "cell_type": "code",
   "execution_count": 241,
   "id": "d2026773",
   "metadata": {},
   "outputs": [
    {
     "name": "stdout",
     "output_type": "stream",
     "text": [
      "df/dw:  tensor([ 9., 11.])\n",
      "df/db:  tensor([2.])\n"
     ]
    }
   ],
   "source": [
    "# Обычный пример использования функции mse\n",
    "x = torch.arange(1, 5, dtype=torch.float32).reshape(2, 2)\n",
    "w = torch.tensor([0.5] * 2, requires_grad=True)\n",
    "b = torch.tensor([1.0], requires_grad=True)\n",
    "y_true = torch.tensor([4.0, 1.0])\n",
    "\n",
    "f = mse(x, w, b, y_true)\n",
    "f.backward()\n",
    "\n",
    "print(\"df/dw: \", w.grad)\n",
    "print(\"df/db: \", b.grad)"
   ]
  },
  {
   "cell_type": "markdown",
   "id": "bb3d421b",
   "metadata": {},
   "source": [
    "---"
   ]
  },
  {
   "cell_type": "code",
   "execution_count": 242,
   "id": "242b71b3",
   "metadata": {},
   "outputs": [],
   "source": [
    "# Пример использования функции mse, когда предсказание == правильному ответу\n",
    "x = torch.arange(30, dtype=torch.float32).view(10, 3)\n",
    "w = torch.rand(3, 10, requires_grad=True)\n",
    "b = torch.ones(10, requires_grad=True)\n",
    "y_true = x @ w + b\n",
    "\n",
    "f = mse(x, w, b, y_true)\n",
    "f.backward()\n",
    "\n",
    "# Модель дала идеальное предсказание => градиенты и функция потерь - нулевые\n",
    "assert (f == 0).all()\n",
    "assert (w.grad == 0).all()\n",
    "assert (b.grad == 0).all()"
   ]
  },
  {
   "cell_type": "markdown",
   "id": "9b9f950a",
   "metadata": {},
   "source": [
    "---"
   ]
  },
  {
   "cell_type": "code",
   "execution_count": 243,
   "id": "bb3b8ee0",
   "metadata": {},
   "outputs": [
    {
     "name": "stdout",
     "output_type": "stream",
     "text": [
      "df/dw:  tensor([-12.])\n",
      "df/db:  tensor([-6.])\n"
     ]
    }
   ],
   "source": [
    "# Пример с простыми числами\n",
    "x = torch.tensor([2.0])\n",
    "w = torch.tensor([1.0], requires_grad=True)\n",
    "b = torch.tensor([0.0], requires_grad=True)\n",
    "y_true = torch.tensor([5.0])\n",
    "\n",
    "f = mse(x, w, b, y_true)\n",
    "f.backward()\n",
    "\n",
    "print(\"df/dw: \", w.grad)\n",
    "print(\"df/db: \", b.grad)"
   ]
  },
  {
   "cell_type": "markdown",
   "id": "50d4ab00",
   "metadata": {},
   "source": [
    "Проверка аналитически:\n",
    "\n",
    "f = (wx + b - y_true)^2\n",
    "\n",
    "- df/dw = 2(wx + b - y_true) * x => 2 (1 * 2 - 5) * 2 = -12\n",
    "- df/db = 2(wx + b - y_true) * 1 => 2 (1 * 2 - 5) = -6\n",
    "\n",
    "Ответы совпали"
   ]
  },
  {
   "cell_type": "markdown",
   "id": "b02dc250",
   "metadata": {},
   "source": [
    "### 2.3 Цепное правило"
   ]
  },
  {
   "cell_type": "code",
   "execution_count": 244,
   "id": "7b8dc9a6",
   "metadata": {},
   "outputs": [
    {
     "name": "stdout",
     "output_type": "stream",
     "text": [
      "df/dx (через .backward()): 1.1346487998962402\n"
     ]
    }
   ],
   "source": [
    "x = torch.tensor([2.0], requires_grad=True)\n",
    "f = torch.sin(x**2 + 1)\n",
    "f.backward()\n",
    "print(f\"df/dx (через .backward()): {x.grad.item()}\")  # type: ignore"
   ]
  },
  {
   "cell_type": "markdown",
   "id": "5aec06ed",
   "metadata": {},
   "source": [
    "Проверка аналитически:\n",
    "\n",
    "f = sin(x^2 + 1)\n",
    "\n",
    "df/dx = cos(x^2 + 1) * 2x => cos(4 + 1) * 4 => cos(5) * 4 = 1.13465\n",
    "\n",
    "Проверка с помощью torch.autograd.grad:"
   ]
  },
  {
   "cell_type": "code",
   "execution_count": 245,
   "id": "30305ee1",
   "metadata": {},
   "outputs": [
    {
     "name": "stdout",
     "output_type": "stream",
     "text": [
      "df/dx (через autograd.grad): 1.1346487998962402\n"
     ]
    }
   ],
   "source": [
    "x = torch.tensor([2.0], requires_grad=True)\n",
    "f = torch.sin(x**2 + 1)\n",
    "df_dx = torch.autograd.grad(f, x)[0]\n",
    "print(f\"df/dx (через autograd.grad): {df_dx.item()}\")  # type: ignore"
   ]
  },
  {
   "cell_type": "markdown",
   "id": "b335e42e",
   "metadata": {},
   "source": [
    "## Задание 3: Сравнение производительности CPU vs CUDA"
   ]
  },
  {
   "cell_type": "markdown",
   "id": "fa58a1d3",
   "metadata": {},
   "source": [
    "### 3.1 Подготовка данных "
   ]
  },
  {
   "cell_type": "code",
   "execution_count": 246,
   "id": "265768d7",
   "metadata": {},
   "outputs": [],
   "source": [
    "# Создание больших матриц\n",
    "a_cpu = torch.rand(64, 1024, 1024)\n",
    "b_cpu = torch.rand(128, 512, 512)\n",
    "c_cpu = torch.rand(256, 256, 256)\n",
    "\n",
    "a_cuda = a_cpu.to(\"cuda\")\n",
    "b_cuda = b_cpu.to(\"cuda\")\n",
    "c_cuda = c_cpu.to(\"cuda\")"
   ]
  },
  {
   "cell_type": "markdown",
   "id": "63923dae",
   "metadata": {},
   "source": [
    "### 3.2 Функция измерения времени"
   ]
  },
  {
   "cell_type": "code",
   "execution_count": 247,
   "id": "265a0617",
   "metadata": {},
   "outputs": [],
   "source": [
    "import time\n",
    "from enum import Enum\n",
    "\n",
    "\n",
    "class Device(Enum):\n",
    "    CPU = \"cpu\"\n",
    "    CUDA = \"cuda\"\n",
    "\n",
    "\n",
    "def measure_time(\n",
    "    func, *args, device: Device = Device.CPU, repeat: int = 10, **kwargs\n",
    ") -> float:\n",
    "    \"\"\"Среднее время выполнения функции на заданном устройстве.\n",
    "\n",
    "    Args:\n",
    "        func (func): Функция, время выполнения которой нужно измерить.\n",
    "        *args: Позиционные аргументы для функции.\n",
    "        device (Device, optional): Устройство. Defaults to Device.CPU.\n",
    "        repeat (int, optional): Количество повторений. Defaults to 10.\n",
    "        **kwargs: Именованные аргументы для функции.\n",
    "\n",
    "    Raises:\n",
    "        RuntimeError: Если CUDA не доступен, а устройство указано как Device.CUDA.\n",
    "        ValueError: Если устройство указано неверно.\n",
    "\n",
    "    Returns:\n",
    "        float: Среднее время выполнения функции в миллисекундах.\n",
    "    \"\"\"\n",
    "    times = []\n",
    "    for _ in range(repeat):\n",
    "        if device == Device.CPU:\n",
    "            start = time.time()\n",
    "            func(*args, **kwargs)\n",
    "            end = time.time()\n",
    "            times.append((end - start) * 1000)\n",
    "        elif device == Device.CUDA:\n",
    "            if not torch.cuda.is_available():\n",
    "                raise RuntimeError(\"CUDA не доступен\")\n",
    "\n",
    "            start_event = torch.cuda.Event(enable_timing=True)\n",
    "            end_event = torch.cuda.Event(enable_timing=True)\n",
    "\n",
    "            torch.cuda.synchronize()\n",
    "            start_event.record()  # type: ignore\n",
    "\n",
    "            func(*args, **kwargs)\n",
    "\n",
    "            end_event.record()  # type: ignore\n",
    "            torch.cuda.synchronize()\n",
    "            times.append(start_event.elapsed_time(end_event))\n",
    "        else:\n",
    "            raise ValueError(\"Неверное устройство, должно быть cpu или cuda\")\n",
    "    return sum(times) / len(times)"
   ]
  },
  {
   "cell_type": "markdown",
   "id": "7d59fba8",
   "metadata": {},
   "source": [
    "### 3.3 Сравнение операций"
   ]
  },
  {
   "cell_type": "code",
   "execution_count": 248,
   "id": "ef9e8065",
   "metadata": {},
   "outputs": [],
   "source": [
    "from dataclasses import dataclass, field\n",
    "\n",
    "\n",
    "# Класс для хранения результатов измерения времени выполнения операций\n",
    "@dataclass\n",
    "class OperationResult:\n",
    "    operation_name: str\n",
    "    _results: list[tuple[Device, float, torch.Size]] = field(default_factory=list)\n",
    "\n",
    "    def add_result(self, device: Device, time_ms: float, matrix_size: torch.Size):\n",
    "        \"\"\"Добавляет результат измерения времени выполнения операции.\n",
    "\n",
    "        Args:\n",
    "            device (Device): Устройство, на котором измерялось время.\n",
    "            time_ms (float): Время выполнения операции в миллисекундах.\n",
    "            matrix_size (torch.Size): Размер матрицы, на которой выполнялась операция.\n",
    "        \"\"\"\n",
    "        self._results.append((device, time_ms, matrix_size))\n",
    "\n",
    "    def get_result(\n",
    "        self, device: Device, matrix_size: torch.Size | None = None\n",
    "    ) -> float:\n",
    "        \"\"\"Получает среднее время выполнения операции на заданном устройстве.\n",
    "\n",
    "        Args:\n",
    "            device (Device): Устройство, для которого нужно получить результат.\n",
    "            matrix_size (torch.Size | None, optional): Размер матрицы, для которой нужно получить результат\n",
    "            (Если None, то берутся все размеры). Defaults to None.\n",
    "\n",
    "        Returns:\n",
    "            float: Среднее время выполнения операции в миллисекундах.\n",
    "        \"\"\"\n",
    "        result = [\n",
    "            res\n",
    "            for res in self._results\n",
    "            if res[0] == device and (matrix_size is None or res[2] == matrix_size)\n",
    "        ]\n",
    "        return sum(res[1] for res in result) / len(result) if result else 0.0\n",
    "\n",
    "    def get_speedup(self, matrix_size: torch.Size | None = None) -> float:\n",
    "        \"\"\"Получает ускорение операции на GPU относительно CPU.\n",
    "\n",
    "        Args:\n",
    "            matrix_size (torch.Size | None, optional): Размер матрицы, для которой нужно получить результат\n",
    "            (Если None, то берутся все размеры). Defaults to None.\n",
    "\n",
    "        Returns:\n",
    "            float: Ускорение операции на GPU относительно CPU.\n",
    "        \"\"\"\n",
    "        return (\n",
    "            self.get_result(Device.CPU, matrix_size)\n",
    "            / self.get_result(Device.CUDA, matrix_size)\n",
    "            if self.get_result(Device.CUDA, matrix_size) > 0\n",
    "            else float(\"inf\")\n",
    "        )"
   ]
  },
  {
   "cell_type": "code",
   "execution_count": 249,
   "id": "287c5963",
   "metadata": {},
   "outputs": [],
   "source": [
    "# Список для хранения результатов измерения времени выполнения операций\n",
    "operations: list[OperationResult] = []"
   ]
  },
  {
   "cell_type": "markdown",
   "id": "63638d27",
   "metadata": {},
   "source": [
    "Измерение матричного умножения"
   ]
  },
  {
   "cell_type": "code",
   "execution_count": 250,
   "id": "8739c31d",
   "metadata": {},
   "outputs": [],
   "source": [
    "operation = OperationResult(\"Матричное умножение\")\n",
    "operations.append(operation)\n",
    "for cpu_tensor in (a_cpu, b_cpu, c_cpu):\n",
    "    operation.add_result(\n",
    "        Device.CPU,\n",
    "        measure_time(torch.matmul, cpu_tensor, cpu_tensor, device=Device.CPU),\n",
    "        cpu_tensor.shape,\n",
    "    )\n",
    "for cuda_tensor in (a_cuda, b_cuda, c_cuda):\n",
    "    operation.add_result(\n",
    "        Device.CUDA,\n",
    "        measure_time(torch.matmul, cuda_tensor, cuda_tensor, device=Device.CUDA),\n",
    "        cuda_tensor.shape,\n",
    "    )"
   ]
  },
  {
   "cell_type": "markdown",
   "id": "ea79ef86",
   "metadata": {},
   "source": [
    "Измерение поэлементного сложения"
   ]
  },
  {
   "cell_type": "code",
   "execution_count": 251,
   "id": "4f2679e8",
   "metadata": {},
   "outputs": [],
   "source": [
    "operation = OperationResult(\"Поэлементное сложение\")\n",
    "operations.append(operation)\n",
    "for cpu_tensor in (a_cpu, b_cpu, c_cpu):\n",
    "    operation.add_result(\n",
    "        Device.CPU,\n",
    "        measure_time(torch.add, cpu_tensor, cpu_tensor, device=Device.CPU, repeat=100),\n",
    "        cpu_tensor.shape,\n",
    "    )\n",
    "for cuda_tensor in (a_cuda, b_cuda, c_cuda):\n",
    "    operation.add_result(\n",
    "        Device.CUDA,\n",
    "        measure_time(\n",
    "            torch.add, cuda_tensor, cuda_tensor, device=Device.CUDA, repeat=100\n",
    "        ),\n",
    "        cuda_tensor.shape,\n",
    "    )"
   ]
  },
  {
   "cell_type": "markdown",
   "id": "693e8d17",
   "metadata": {},
   "source": [
    "Измерение поэлементного умножения"
   ]
  },
  {
   "cell_type": "code",
   "execution_count": 252,
   "id": "259f2480",
   "metadata": {},
   "outputs": [],
   "source": [
    "operation = OperationResult(\"Поэлементное умножение\")\n",
    "operations.append(operation)\n",
    "for cpu_tensor in (a_cpu, b_cpu, c_cpu):\n",
    "    operation.add_result(\n",
    "        Device.CPU,\n",
    "        measure_time(torch.mul, cpu_tensor, cpu_tensor, device=Device.CPU, repeat=100),\n",
    "        cpu_tensor.shape,\n",
    "    )\n",
    "for cuda_tensor in (a_cuda, b_cuda, c_cuda):\n",
    "    operation.add_result(\n",
    "        Device.CUDA,\n",
    "        measure_time(\n",
    "            torch.mul, cuda_tensor, cuda_tensor, device=Device.CUDA, repeat=100\n",
    "        ),\n",
    "        cuda_tensor.shape,\n",
    "    )"
   ]
  },
  {
   "cell_type": "markdown",
   "id": "ce3e83bc",
   "metadata": {},
   "source": [
    "Измерение транспонирования"
   ]
  },
  {
   "cell_type": "code",
   "execution_count": 253,
   "id": "bd9f7498",
   "metadata": {},
   "outputs": [],
   "source": [
    "operation = OperationResult(\"Транспонирование (transpose_copy)\")\n",
    "operations.append(operation)\n",
    "for cpu_tensor in (a_cpu, b_cpu, c_cpu):\n",
    "    operation.add_result(\n",
    "        Device.CPU,\n",
    "        measure_time(\n",
    "            torch.transpose_copy, cpu_tensor, -1, -2, device=Device.CPU, repeat=100\n",
    "        ),\n",
    "        cpu_tensor.shape,\n",
    "    )\n",
    "for cuda_tensor in (a_cuda, b_cuda, c_cuda):\n",
    "    operation.add_result(\n",
    "        Device.CUDA,\n",
    "        measure_time(\n",
    "            torch.transpose_copy, cuda_tensor, -1, -2, device=Device.CUDA, repeat=100\n",
    "        ),\n",
    "        cuda_tensor.shape,\n",
    "    )"
   ]
  },
  {
   "cell_type": "markdown",
   "id": "725e2d90",
   "metadata": {},
   "source": [
    "Измерение вычисления суммы всех элементов"
   ]
  },
  {
   "cell_type": "code",
   "execution_count": 254,
   "id": "d6b272a4",
   "metadata": {},
   "outputs": [],
   "source": [
    "operation = OperationResult(\"Сумма всех элементов\")\n",
    "operations.append(operation)\n",
    "for cpu_tensor in (a_cpu, b_cpu, c_cpu):\n",
    "    operation.add_result(\n",
    "        Device.CPU,\n",
    "        measure_time(torch.sum, cpu_tensor, device=Device.CPU, repeat=1000),\n",
    "        cpu_tensor.shape,\n",
    "    )\n",
    "for cuda_tensor in (a_cuda, b_cuda, c_cuda):\n",
    "    operation.add_result(\n",
    "        Device.CUDA,\n",
    "        measure_time(torch.sum, cuda_tensor, device=Device.CUDA, repeat=1000),\n",
    "        cuda_tensor.shape,\n",
    "    )"
   ]
  },
  {
   "cell_type": "markdown",
   "id": "e2904431",
   "metadata": {},
   "source": [
    "#### Результаты"
   ]
  },
  {
   "cell_type": "markdown",
   "id": "3c7b99ce",
   "metadata": {},
   "source": [
    "Общие результаты"
   ]
  },
  {
   "cell_type": "code",
   "execution_count": 259,
   "id": "ec84868d",
   "metadata": {},
   "outputs": [
    {
     "name": "stdout",
     "output_type": "stream",
     "text": [
      "ОБЩИЕ РЕЗУЛЬТАТЫ ИЗМЕРЕНИЯ ВРЕМЕНИ ВЫПОЛНЕНИЯ ОПЕРАЦИЙ\n",
      "+-----------------------------------+----------+----------+-----------+\n",
      "|              Операция             | CPU (мс) | GPU (мс) | Ускорение |\n",
      "+-----------------------------------+----------+----------+-----------+\n",
      "|        Матричное умножение        |  784.54  |  39.92   |   19.66   |\n",
      "|       Поэлементное сложение       |  43.48   |   3.56   |   12.21   |\n",
      "|       Поэлементное умножение      |  44.37   |   3.93   |   11.29   |\n",
      "| Транспонирование (transpose_copy) |  117.85  |   4.51   |   26.14   |\n",
      "|        Сумма всех элементов       |   6.37   |   1.61   |    3.97   |\n",
      "+-----------------------------------+----------+----------+-----------+\n"
     ]
    }
   ],
   "source": [
    "from prettytable import PrettyTable\n",
    "\n",
    "\n",
    "print(\"ОБЩИЕ РЕЗУЛЬТАТЫ ИЗМЕРЕНИЯ ВРЕМЕНИ ВЫПОЛНЕНИЯ ОПЕРАЦИЙ\")\n",
    "table = PrettyTable()\n",
    "table.field_names = [\"Операция\", \"CPU (мс)\", \"GPU (мс)\", \"Ускорение\"]\n",
    "for operation in operations:\n",
    "    table.add_row(\n",
    "        [\n",
    "            operation.operation_name,\n",
    "            f\"{operation.get_result(Device.CPU):.2f}\",\n",
    "            f\"{operation.get_result(Device.CUDA):.2f}\",\n",
    "            f\"{operation.get_speedup():.2f}\",\n",
    "        ]\n",
    "    )\n",
    "print(table)"
   ]
  },
  {
   "cell_type": "markdown",
   "id": "5f4fac63",
   "metadata": {},
   "source": [
    "Результаты по тензорам"
   ]
  },
  {
   "cell_type": "code",
   "execution_count": 261,
   "id": "5551e4ea",
   "metadata": {},
   "outputs": [
    {
     "name": "stdout",
     "output_type": "stream",
     "text": [
      "\n",
      "ТЕНЗОР:  64 x 1024 x 1024\n",
      "+-----------------------------------+----------+----------+-----------+\n",
      "|              Операция             | CPU (мс) | GPU (мс) | Ускорение |\n",
      "+-----------------------------------+----------+----------+-----------+\n",
      "|        Матричное умножение        | 1804.03  |  96.00   |   18.79   |\n",
      "|       Поэлементное сложение       |  75.28   |   6.73   |   11.19   |\n",
      "|       Поэлементное умножение      |  80.18   |   7.90   |   10.15   |\n",
      "| Транспонирование (transpose_copy) |  262.76  |   8.96   |   29.33   |\n",
      "|        Сумма всех элементов       |  10.93   |   2.67   |    4.09   |\n",
      "+-----------------------------------+----------+----------+-----------+\n",
      "\n",
      "\n",
      "ТЕНЗОР:  128 x 512 x 512\n",
      "+-----------------------------------+----------+----------+-----------+\n",
      "|              Операция             | CPU (мс) | GPU (мс) | Ускорение |\n",
      "+-----------------------------------+----------+----------+-----------+\n",
      "|        Матричное умножение        |  424.47  |  18.72   |   22.67   |\n",
      "|       Поэлементное сложение       |  37.67   |   2.62   |   14.35   |\n",
      "|       Поэлементное умножение      |  35.41   |   2.57   |   13.80   |\n",
      "| Транспонирование (transpose_copy) |  67.85   |   3.11   |   21.83   |\n",
      "|        Сумма всех элементов       |   5.47   |   1.38   |    3.96   |\n",
      "+-----------------------------------+----------+----------+-----------+\n",
      "\n",
      "\n",
      "ТЕНЗОР:  256 x 256 x 256\n",
      "+-----------------------------------+----------+----------+-----------+\n",
      "|              Операция             | CPU (мс) | GPU (мс) | Ускорение |\n",
      "+-----------------------------------+----------+----------+-----------+\n",
      "|        Матричное умножение        |  125.11  |   5.03   |   24.89   |\n",
      "|       Поэлементное сложение       |  17.48   |   1.33   |   13.14   |\n",
      "|       Поэлементное умножение      |  17.52   |   1.33   |   13.20   |\n",
      "| Транспонирование (transpose_copy) |  22.94   |   1.46   |   15.70   |\n",
      "|        Сумма всех элементов       |   2.72   |   0.77   |    3.53   |\n",
      "+-----------------------------------+----------+----------+-----------+\n",
      "\n"
     ]
    }
   ],
   "source": [
    "from prettytable import PrettyTable\n",
    "\n",
    "\n",
    "for tensor in (a_cpu, b_cpu, c_cpu):\n",
    "    print()\n",
    "    print(\"ТЕНЗОР: \", \" x \".join(map(str, tensor.shape)))\n",
    "    table = PrettyTable()\n",
    "    table.field_names = [\"Операция\", \"CPU (мс)\", \"GPU (мс)\", \"Ускорение\"]\n",
    "    for operation in operations:\n",
    "        table.add_row(\n",
    "            [\n",
    "                operation.operation_name,\n",
    "                f\"{operation.get_result(Device.CPU, tensor.shape):.2f}\",\n",
    "                f\"{operation.get_result(Device.CUDA, tensor.shape):.2f}\",\n",
    "                f\"{operation.get_speedup(tensor.shape):.2f}\",\n",
    "            ]\n",
    "        )\n",
    "    print(table)\n",
    "    print()"
   ]
  },
  {
   "cell_type": "markdown",
   "id": "01bea926",
   "metadata": {},
   "source": [
    "### 3.4 Анализ результатов\n"
   ]
  },
  {
   "cell_type": "markdown",
   "id": "a316cd46",
   "metadata": {},
   "source": [
    "#### Какие операции получают наибольшее ускорение на GPU?\n",
    "\n",
    "Лидеры по ускорению:\n",
    "- ```transpose_copy``` - до x29 ускорения на тензоре 64 x 1024 x 1024\n",
    "- ```matmul``` - до x25 ускорения на тензоре 256 x 256 x 256\n",
    "- Поэлементные операции (сложение, умножение) - стабильное ускорение x10–14\n",
    "\n",
    "#### Почему некоторые операции медленнее на GPU или ускоряются слабее?\n",
    "\n",
    "Меньше всех ускоряется операция ```sum``` (примерно в 4 раза). Так происходит потому что эта операция - операция сведения и ее невозможно эффективно распараллелить без синхронизации: каждая часть суммы вычисляется в отдельном потоке, а затем все частичные результаты необходимо объединить, что требует координации и обмена данными между потоками.\n",
    "\n",
    "Также время выполнения операции ```sum``` самое низкое (около 1-2 мс), и в таких условиях накладные расходы на запуск CUDA ядра, выделение памяти и синхронизацию становятся значительными по сравнению с полезной работой. В итоге, даже если сама операция выполняется быстрее на GPU, общая стоимость вычислений (включая подготовку и завершение) снижает эффективность и уменьшает итоговое ускорение.\n",
    "\n",
    "#### Как размер матриц влияет на ускорение?\n",
    "\n",
    "Проанализируем ускорение для самой маленькой и самой большой матрицы:\n",
    "| Операция | Большая матрица | Маленькая матрица | Прирост ускорения маленькой матрицы |\n",
    "| ---------| --------------- | ----------------- | ----------------------------------- |\n",
    "| Матричное умножение | 18.79 | 24.89 | +32% |\n",
    "| Поэлементное сложение | 11.19 | 13.14 | +17% |\n",
    "| Поэлементное умножение | 10.15 | 13.20 | +30% |\n",
    "| Транспонирование | 29.33 | 15.70 | -47% |\n",
    "| Сумма всех элементов | 4.09 | 3.53 | -14% |\n",
    "\n",
    "GPU обычно выигрывает на больших объемах данных, где он может раскрыть весь потенциал параллелизма. Но почему в моем случае в 3 из 5 случаев ускорение маленькой матрицы больше. Скорее всего это связано с тем что у CPU производительность быстрее падает на маленьких матрицах: CPU - это несколько мощных ядер, и он неэффективен на мелких задачах с высокой частотой обращений к памяти. То есть маленькие матрицы сильно просаживают CPU, но в то же время могут достаточно хорошо загрузить GPU. \n",
    "\n",
    "Также важно учитывать, что в таблице показано относительное ускорение, а не абсолютная производительность. GPU может работать примерно одинаково быстро на любых матрицах, а CPU может быть на больших матрицах медленнее незначительно.\n",
    "\n",
    "#### Что происходит при передаче данных между CPU и GPU?\n",
    "\n",
    "При передаче данных между CPU и GPU происходит копирование тензора из оперативной памяти (RAM) в видеопамять (VRAM) через шину PCI Express, что является относительно медленной и синхронной операцией."
   ]
  }
 ],
 "metadata": {
  "kernelspec": {
   "display_name": "Python 3",
   "language": "python",
   "name": "python3"
  },
  "language_info": {
   "codemirror_mode": {
    "name": "ipython",
    "version": 3
   },
   "file_extension": ".py",
   "mimetype": "text/x-python",
   "name": "python",
   "nbconvert_exporter": "python",
   "pygments_lexer": "ipython3",
   "version": "3.13.1"
  }
 },
 "nbformat": 4,
 "nbformat_minor": 5
}
